{
 "cells": [
  {
   "cell_type": "code",
   "execution_count": 205,
   "id": "characteristic-sight",
   "metadata": {},
   "outputs": [],
   "source": [
    "END = 150\n",
    "\n",
    "# likely not necessary\n",
    "vitA_reqs = [1000, 1000, 1000, 1000, 1000]\n",
    "vitD_reqs = [10, 10, 10, 5, 5]\n",
    "vitE_reqs = [10, 10, 10, 10, 10]\n",
    "vitK_reqs = [45]\n",
    "\n",
    "MAX_MEALS = 3"
   ]
  },
  {
   "cell_type": "code",
   "execution_count": 206,
   "id": "statewide-doctor",
   "metadata": {},
   "outputs": [],
   "source": [
    "class Meal:\n",
    "    \n",
    "    default_id = 0\n",
    "\n",
    "    def __init__(self, calories: int, protein: int, carbs: int, fats: int, cholesterol: int, sugar: int, name=\"\"):\n",
    "        \n",
    "        if name == \"\":\n",
    "            self.name = str(Meal.default_id)\n",
    "            Meal.default_id += 1\n",
    "        else:\n",
    "            self.name = name\n",
    "            \n",
    "        self.calories = calories\n",
    "        self.protein = protein\n",
    "        self.carbs = carbs\n",
    "        self.fats = fats\n",
    "        self.cholesterol = cholesterol\n",
    "        self.sugar = sugar\n",
    "        \n",
    "        self.nutrients = locals()\n",
    "        self.nutrients.pop('self')\n",
    "        \n",
    "    def __repr__(self):\n",
    "        return self.name\n",
    "        \n",
    "    def getNutrients(self) -> dict:\n",
    "        return self.nutrients\n",
    "    \n",
    "    def getNutrient(self, nutrient: str) -> int:\n",
    "        return self.nutrients[nutrient]"
   ]
  },
  {
   "cell_type": "code",
   "execution_count": 207,
   "id": "strategic-fetish",
   "metadata": {},
   "outputs": [
    {
     "data": {
      "text/plain": [
       "10"
      ]
     },
     "execution_count": 207,
     "metadata": {},
     "output_type": "execute_result"
    }
   ],
   "source": [
    "m = Meal(10, 10, 10, 10, 10, 10)\n",
    "m.getNutrients()\n",
    "m.getNutrient('sugar')"
   ]
  },
  {
   "cell_type": "code",
   "execution_count": 208,
   "id": "settled-paris",
   "metadata": {},
   "outputs": [],
   "source": [
    "class DailyDiet:\n",
    "    \n",
    "    def __init__(self, meals=[]):\n",
    "        self.validateMeals(meals)\n",
    "        \n",
    "        self.meals = meals\n",
    "        \n",
    "        self.nutrients = self.calculateTotals(meals)\n",
    "                    \n",
    "    def validateMeals(self, meals):\n",
    "        if len(meals) > MAX_MEALS:\n",
    "            raise ValueError('Too many meals included ')\n",
    "            \n",
    "    def calculateTotals(self, meals=None):\n",
    "        if meals == None:\n",
    "            meals = self.meals\n",
    "        nutrients = dict()\n",
    "        for meal in meals:\n",
    "            for nutrient, value in meal.getNutrients().items():\n",
    "                if nutrient not in nutrients:\n",
    "                    nutrients.update({nutrient:value})\n",
    "                else:\n",
    "                    nutrients[nutrient] += value\n",
    "    \n",
    "        return nutrients"
   ]
  },
  {
   "cell_type": "code",
   "execution_count": 209,
   "id": "mental-absorption",
   "metadata": {},
   "outputs": [],
   "source": [
    "class Eater:\n",
    "    \n",
    "    # age groups\n",
    "    age_groups = [(11,14), (15,18), (19,24), (25,50), (51,END)]\n",
    "\n",
    "    # things we want\n",
    "    calorie_reqs = [1600, 1800, 2000, 1800, 1600]\n",
    "    protein_reqs = [0.20*item for item in calorie_reqs]\n",
    "    carb_reqs = [0.45*item for item in calorie_reqs]\n",
    "    fat_reqs = [0.35*item for item in calorie_reqs]\n",
    "    \n",
    "    requirements = [calorie_reqs, protein_reqs, carb_reqs, fat_reqs]\n",
    "\n",
    "    # things to avoid\n",
    "    chol_limits = [170, 170, 170, 200, 200]\n",
    "    sugar_limits = [25, 25, 25, 25, 25]\n",
    "    \n",
    "    limits = [chol_limits, sugar_limits]\n",
    "    \n",
    "    def __init__(self, age, sex, meals = []):\n",
    "        self.age = age\n",
    "        self.age_index = self.findAgeIndex(age)\n",
    "        self.sex = sex\n",
    "        self.diet = DailyDiet(meals)\n",
    "        self.nutrients = self.diet.calculateTotals()\n",
    "        self.baseline = self.getBaselineNutrients()\n",
    "        \n",
    "    def getBaselineNutrients(self):\n",
    "        i = self.age_index\n",
    "        baseline = {\n",
    "            \"calories\": Eater.calorie_reqs[i],\n",
    "            \"protein\": Eater.protein_reqs[i],\n",
    "            \"carbs\": Eater.carb_reqs[i],\n",
    "            \"fats\": Eater.fat_reqs[i],\n",
    "            \"cholesterol\": Eater.chol_limits[i],\n",
    "            \"sugar\": Eater.sugar_limits[i]\n",
    "        }\n",
    "        return baseline\n",
    "        \n",
    "    def findAgeIndex(self, age):\n",
    "        age_groups = Eater.age_groups\n",
    "        for i in range(len(age_groups)):\n",
    "            age_group = age_groups[i]\n",
    "            if self.age <= age_group[1] and self.age >= age_group[0]:\n",
    "                return i\n",
    "            \n",
    "    def calculateTotals(self):\n",
    "        return self.diet.calculateTotals()\n",
    "    \n",
    "    def calculateDeficiency(self):\n",
    "        deficiency = {}\n",
    "        for nutrient, value in self.baseline.items():\n",
    "            deficiency.update({nutrient: value - self.nutrients[nutrient]})\n",
    "        return deficiency\n",
    "    \n",
    "    def calculateRelativeDeficiency(self, nutrients=None, baseline=None):\n",
    "        if nutrients == None:\n",
    "            nutrients = self.nutrients\n",
    "        if baseline == None:\n",
    "            baseline = self.baseline\n",
    "        deficiency = {}\n",
    "        for nutrient, value in baseline.items():\n",
    "            deficiency.update({nutrient: 1.00 - (value - nutrients[nutrient])/value})\n",
    "        return deficiency\n",
    "        \n",
    "        \n",
    "        \n"
   ]
  },
  {
   "cell_type": "code",
   "execution_count": 210,
   "id": "weird-baghdad",
   "metadata": {},
   "outputs": [
    {
     "name": "stdout",
     "output_type": "stream",
     "text": [
      "{'calories': 31, 'protein': 32, 'carbs': 33, 'fats': 34, 'cholesterol': 35, 'sugar': 46, 'name': ''}\n",
      "{'calories': 1569, 'protein': 288.0, 'carbs': 687.0, 'fats': 526.0, 'cholesterol': 165, 'sugar': -21}\n",
      "{'calories': 0.01937500000000003, 'protein': 0.09999999999999998, 'carbs': 0.04583333333333328, 'fats': 0.06071428571428572, 'cholesterol': 0.17500000000000004, 'sugar': 1.8399999999999999}\n"
     ]
    }
   ],
   "source": [
    "m1 = Meal(10, 10, 10, 10, 10, 10)\n",
    "m2 = Meal(20, 20, 20, 20, 20, 30)\n",
    "m3 = Meal(1, 2, 3, 4, 5, 6)\n",
    "m4 = Meal(1000, 40, 200, 40, 250, 100)\n",
    "\n",
    "meals = [m1, m2, m3]\n",
    "person = Eater(89, 'M', meals)\n",
    "print(person.calculateTotals())\n",
    "print(person.calculateDeficiency())\n",
    "print(person.calculateRelativeDeficiency())"
   ]
  },
  {
   "cell_type": "code",
   "execution_count": 211,
   "id": "above-acting",
   "metadata": {},
   "outputs": [],
   "source": [
    "class ScoringEngine:\n",
    "    \n",
    "    def __init__(self):\n",
    "        pass\n",
    "        \n",
    "    def calculateNewMealValue(self, eater, new_meal):\n",
    "        new_nutrients = new_meal.getNutrients()\n",
    "        deficiency_nutrients = eater.calculateDeficiency()\n",
    "        completion = eater.calculateRelativeDeficiency(new_nutrients, deficiency_nutrients)\n",
    "        return completion\n",
    "        \n",
    "    def scoreMeal(self, eater, new_meal):\n",
    "        coverage = self.calculateNewMealValue(eater, new_meal)\n",
    "        score = coverage['calories']*0.5 + coverage['protein']*0.20 + coverage['carbs']*0.10 + coverage['fats']*0.10 + coverage['cholesterol']*0.05 + coverage['sugar']*0.05\n",
    "        return score\n",
    "    \n",
    "    def scoreMeals(self, eater, new_meals=[]):\n",
    "        meal_list = sorted(new_meals, key=lambda x: self.scoreMeal(eater, x), reverse=True)\n",
    "        Meal.default_id = 0\n",
    "        return meal_list\n",
    "        "
   ]
  },
  {
   "cell_type": "code",
   "execution_count": 212,
   "id": "younger-clear",
   "metadata": {},
   "outputs": [
    {
     "name": "stdout",
     "output_type": "stream",
     "text": [
      "[4, 1, 3, 2]\n"
     ]
    }
   ],
   "source": [
    "se = ScoringEngine()\n",
    "print(se.scoreMeals(person, [m1, m2, m3, m4]))"
   ]
  },
  {
   "cell_type": "code",
   "execution_count": 215,
   "id": "muslim-salon",
   "metadata": {},
   "outputs": [],
   "source": [
    "import requests"
   ]
  },
  {
   "cell_type": "code",
   "execution_count": 231,
   "id": "fossil-license",
   "metadata": {},
   "outputs": [],
   "source": [
    "content = requests.get(\"https://api.nal.usda.gov/fdc/v1/foods/list?dataType=Foundation&api_key=D24ch0xJUrhATuYsayVFDFNzBfv8UFMwyYJxVbuN&pageSize=100\")"
   ]
  },
  {
   "cell_type": "code",
   "execution_count": 248,
   "id": "balanced-apparel",
   "metadata": {},
   "outputs": [],
   "source": [
    "food_ids = \",\".join([str(element['fdcId']) for element in content.json()[:20]])\n",
    "final_url = f'https://api.nal.usda.gov/fdc/v1/foods?fdcIds={food_ids}&api_key=D24ch0xJUrhATuYsayVFDFNzBfv8UFMwyYJxVbuN'\n",
    "food_content = requests.get(final_url)"
   ]
  },
  {
   "cell_type": "code",
   "execution_count": 247,
   "id": "accepted-calendar",
   "metadata": {},
   "outputs": [
    {
     "name": "stdout",
     "output_type": "stream",
     "text": [
      "<Response [504]>\n"
     ]
    }
   ],
   "source": [
    "print(food_content)"
   ]
  }
 ],
 "metadata": {
  "kernelspec": {
   "display_name": "Python 3",
   "language": "python",
   "name": "python3"
  },
  "language_info": {
   "codemirror_mode": {
    "name": "ipython",
    "version": 3
   },
   "file_extension": ".py",
   "mimetype": "text/x-python",
   "name": "python",
   "nbconvert_exporter": "python",
   "pygments_lexer": "ipython3",
   "version": "3.8.8"
  }
 },
 "nbformat": 4,
 "nbformat_minor": 5
}
